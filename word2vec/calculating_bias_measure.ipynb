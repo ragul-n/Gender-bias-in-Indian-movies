{
  "nbformat": 4,
  "nbformat_minor": 0,
  "metadata": {
    "colab": {
      "provenance": [],
      "mount_file_id": "1IusjtPTg0qyr3wgLXlghzZVTvbL_2wEu",
      "authorship_tag": "ABX9TyPqtPkAXvVDD8uqexfqpVun",
      "include_colab_link": true
    },
    "kernelspec": {
      "name": "python3",
      "display_name": "Python 3"
    },
    "language_info": {
      "name": "python"
    }
  },
  "cells": [
    {
      "cell_type": "markdown",
      "metadata": {
        "id": "view-in-github",
        "colab_type": "text"
      },
      "source": [
        "<a href=\"https://colab.research.google.com/github/ragul-n/Gender-bias-in-Indian-movies/blob/master/word2vec/calculating_bias_measure.ipynb\" target=\"_parent\"><img src=\"https://colab.research.google.com/assets/colab-badge.svg\" alt=\"Open In Colab\"/></a>"
      ]
    },
    {
      "cell_type": "code",
      "source": [
        "!pip install gensim"
      ],
      "metadata": {
        "colab": {
          "base_uri": "https://localhost:8080/"
        },
        "id": "tjVvjCQcZXa7",
        "outputId": "fe410b16-5201-47fb-b29b-fc2cf8f4fa12"
      },
      "execution_count": 1,
      "outputs": [
        {
          "output_type": "stream",
          "name": "stdout",
          "text": [
            "Looking in indexes: https://pypi.org/simple, https://us-python.pkg.dev/colab-wheels/public/simple/\n",
            "Requirement already satisfied: gensim in /usr/local/lib/python3.8/dist-packages (3.6.0)\n",
            "Requirement already satisfied: numpy>=1.11.3 in /usr/local/lib/python3.8/dist-packages (from gensim) (1.21.6)\n",
            "Requirement already satisfied: scipy>=0.18.1 in /usr/local/lib/python3.8/dist-packages (from gensim) (1.7.3)\n",
            "Requirement already satisfied: six>=1.5.0 in /usr/local/lib/python3.8/dist-packages (from gensim) (1.15.0)\n",
            "Requirement already satisfied: smart-open>=1.2.1 in /usr/local/lib/python3.8/dist-packages (from gensim) (6.3.0)\n"
          ]
        }
      ]
    },
    {
      "cell_type": "code",
      "source": [
        "!pip install -U fse\n",
        "!pip install --upgrade scipy \n",
        "!pip install --upgrade numpy"
      ],
      "metadata": {
        "id": "K4HEnHoCf2wo"
      },
      "execution_count": null,
      "outputs": []
    },
    {
      "cell_type": "code",
      "execution_count": 1,
      "metadata": {
        "id": "pFoEv4iQJ4mC"
      },
      "outputs": [],
      "source": [
        "import pandas as pd \n",
        "import numpy as np \n",
        "import matplotlib.pyplot as plt \n",
        "import seaborn as sns"
      ]
    },
    {
      "cell_type": "code",
      "source": [
        "movies_data=pd.read_csv(\"https://github.com/ragul-n/Gender-bias-in-Indian-cinema/blob/78bc1bff5a0bd14ba94220f63d2b383d1a963df9/Data%20Collection/data/indian%20movies.csv?raw=true\")\n",
        "movies_data[\"Year\"]= movies_data.Year.str.extract(\"(\\d{4})\").loc[:,0]\n",
        "movies_data[\"Year\"]=[float(i) for i in movies_data.Year]\n",
        "movies_data=movies_data.set_index(\"ID\")\n",
        "movies_data.head()"
      ],
      "metadata": {
        "colab": {
          "base_uri": "https://localhost:8080/",
          "height": 237
        },
        "id": "_-rGYdZCPVLa",
        "outputId": "19c0eb7b-8b1d-4aa5-b5ea-13a60ac68c12"
      },
      "execution_count": 2,
      "outputs": [
        {
          "output_type": "execute_result",
          "data": {
            "text/plain": [
              "                       Movie Name    Year Timing(min) Rating(10)  Votes  \\\n",
              "ID                                                                        \n",
              "tt0398974             Dr. Shaitan  1960.0           -          -      -   \n",
              "tt1702558              Nadir Khan  1968.0           -          -      -   \n",
              "tt0493437  Apna Sapna Money Money  2006.0     134 min        5.3  1,892   \n",
              "tt0273405          Aag Aur Sholay  1987.0           -        2.2     20   \n",
              "tt0049595                 Parivar  1956.0           -        7.4     21   \n",
              "\n",
              "                                          Genre Language  \n",
              "ID                                                        \n",
              "tt0398974                                     -    hindi  \n",
              "tt1702558                                     -     urdu  \n",
              "tt0493437  Comedy, Musical, Romance                hindi  \n",
              "tt0273405                                     -     urdu  \n",
              "tt0049595     Comedy, Drama, Family                hindi  "
            ],
            "text/html": [
              "\n",
              "  <div id=\"df-3ef186d1-f2d0-450b-a739-28f37200f2b8\">\n",
              "    <div class=\"colab-df-container\">\n",
              "      <div>\n",
              "<style scoped>\n",
              "    .dataframe tbody tr th:only-of-type {\n",
              "        vertical-align: middle;\n",
              "    }\n",
              "\n",
              "    .dataframe tbody tr th {\n",
              "        vertical-align: top;\n",
              "    }\n",
              "\n",
              "    .dataframe thead th {\n",
              "        text-align: right;\n",
              "    }\n",
              "</style>\n",
              "<table border=\"1\" class=\"dataframe\">\n",
              "  <thead>\n",
              "    <tr style=\"text-align: right;\">\n",
              "      <th></th>\n",
              "      <th>Movie Name</th>\n",
              "      <th>Year</th>\n",
              "      <th>Timing(min)</th>\n",
              "      <th>Rating(10)</th>\n",
              "      <th>Votes</th>\n",
              "      <th>Genre</th>\n",
              "      <th>Language</th>\n",
              "    </tr>\n",
              "    <tr>\n",
              "      <th>ID</th>\n",
              "      <th></th>\n",
              "      <th></th>\n",
              "      <th></th>\n",
              "      <th></th>\n",
              "      <th></th>\n",
              "      <th></th>\n",
              "      <th></th>\n",
              "    </tr>\n",
              "  </thead>\n",
              "  <tbody>\n",
              "    <tr>\n",
              "      <th>tt0398974</th>\n",
              "      <td>Dr. Shaitan</td>\n",
              "      <td>1960.0</td>\n",
              "      <td>-</td>\n",
              "      <td>-</td>\n",
              "      <td>-</td>\n",
              "      <td>-</td>\n",
              "      <td>hindi</td>\n",
              "    </tr>\n",
              "    <tr>\n",
              "      <th>tt1702558</th>\n",
              "      <td>Nadir Khan</td>\n",
              "      <td>1968.0</td>\n",
              "      <td>-</td>\n",
              "      <td>-</td>\n",
              "      <td>-</td>\n",
              "      <td>-</td>\n",
              "      <td>urdu</td>\n",
              "    </tr>\n",
              "    <tr>\n",
              "      <th>tt0493437</th>\n",
              "      <td>Apna Sapna Money Money</td>\n",
              "      <td>2006.0</td>\n",
              "      <td>134 min</td>\n",
              "      <td>5.3</td>\n",
              "      <td>1,892</td>\n",
              "      <td>Comedy, Musical, Romance</td>\n",
              "      <td>hindi</td>\n",
              "    </tr>\n",
              "    <tr>\n",
              "      <th>tt0273405</th>\n",
              "      <td>Aag Aur Sholay</td>\n",
              "      <td>1987.0</td>\n",
              "      <td>-</td>\n",
              "      <td>2.2</td>\n",
              "      <td>20</td>\n",
              "      <td>-</td>\n",
              "      <td>urdu</td>\n",
              "    </tr>\n",
              "    <tr>\n",
              "      <th>tt0049595</th>\n",
              "      <td>Parivar</td>\n",
              "      <td>1956.0</td>\n",
              "      <td>-</td>\n",
              "      <td>7.4</td>\n",
              "      <td>21</td>\n",
              "      <td>Comedy, Drama, Family</td>\n",
              "      <td>hindi</td>\n",
              "    </tr>\n",
              "  </tbody>\n",
              "</table>\n",
              "</div>\n",
              "      <button class=\"colab-df-convert\" onclick=\"convertToInteractive('df-3ef186d1-f2d0-450b-a739-28f37200f2b8')\"\n",
              "              title=\"Convert this dataframe to an interactive table.\"\n",
              "              style=\"display:none;\">\n",
              "        \n",
              "  <svg xmlns=\"http://www.w3.org/2000/svg\" height=\"24px\"viewBox=\"0 0 24 24\"\n",
              "       width=\"24px\">\n",
              "    <path d=\"M0 0h24v24H0V0z\" fill=\"none\"/>\n",
              "    <path d=\"M18.56 5.44l.94 2.06.94-2.06 2.06-.94-2.06-.94-.94-2.06-.94 2.06-2.06.94zm-11 1L8.5 8.5l.94-2.06 2.06-.94-2.06-.94L8.5 2.5l-.94 2.06-2.06.94zm10 10l.94 2.06.94-2.06 2.06-.94-2.06-.94-.94-2.06-.94 2.06-2.06.94z\"/><path d=\"M17.41 7.96l-1.37-1.37c-.4-.4-.92-.59-1.43-.59-.52 0-1.04.2-1.43.59L10.3 9.45l-7.72 7.72c-.78.78-.78 2.05 0 2.83L4 21.41c.39.39.9.59 1.41.59.51 0 1.02-.2 1.41-.59l7.78-7.78 2.81-2.81c.8-.78.8-2.07 0-2.86zM5.41 20L4 18.59l7.72-7.72 1.47 1.35L5.41 20z\"/>\n",
              "  </svg>\n",
              "      </button>\n",
              "      \n",
              "  <style>\n",
              "    .colab-df-container {\n",
              "      display:flex;\n",
              "      flex-wrap:wrap;\n",
              "      gap: 12px;\n",
              "    }\n",
              "\n",
              "    .colab-df-convert {\n",
              "      background-color: #E8F0FE;\n",
              "      border: none;\n",
              "      border-radius: 50%;\n",
              "      cursor: pointer;\n",
              "      display: none;\n",
              "      fill: #1967D2;\n",
              "      height: 32px;\n",
              "      padding: 0 0 0 0;\n",
              "      width: 32px;\n",
              "    }\n",
              "\n",
              "    .colab-df-convert:hover {\n",
              "      background-color: #E2EBFA;\n",
              "      box-shadow: 0px 1px 2px rgba(60, 64, 67, 0.3), 0px 1px 3px 1px rgba(60, 64, 67, 0.15);\n",
              "      fill: #174EA6;\n",
              "    }\n",
              "\n",
              "    [theme=dark] .colab-df-convert {\n",
              "      background-color: #3B4455;\n",
              "      fill: #D2E3FC;\n",
              "    }\n",
              "\n",
              "    [theme=dark] .colab-df-convert:hover {\n",
              "      background-color: #434B5C;\n",
              "      box-shadow: 0px 1px 3px 1px rgba(0, 0, 0, 0.15);\n",
              "      filter: drop-shadow(0px 1px 2px rgba(0, 0, 0, 0.3));\n",
              "      fill: #FFFFFF;\n",
              "    }\n",
              "  </style>\n",
              "\n",
              "      <script>\n",
              "        const buttonEl =\n",
              "          document.querySelector('#df-3ef186d1-f2d0-450b-a739-28f37200f2b8 button.colab-df-convert');\n",
              "        buttonEl.style.display =\n",
              "          google.colab.kernel.accessAllowed ? 'block' : 'none';\n",
              "\n",
              "        async function convertToInteractive(key) {\n",
              "          const element = document.querySelector('#df-3ef186d1-f2d0-450b-a739-28f37200f2b8');\n",
              "          const dataTable =\n",
              "            await google.colab.kernel.invokeFunction('convertToInteractive',\n",
              "                                                     [key], {});\n",
              "          if (!dataTable) return;\n",
              "\n",
              "          const docLinkHtml = 'Like what you see? Visit the ' +\n",
              "            '<a target=\"_blank\" href=https://colab.research.google.com/notebooks/data_table.ipynb>data table notebook</a>'\n",
              "            + ' to learn more about interactive tables.';\n",
              "          element.innerHTML = '';\n",
              "          dataTable['output_type'] = 'display_data';\n",
              "          await google.colab.output.renderOutput(dataTable, element);\n",
              "          const docLink = document.createElement('div');\n",
              "          docLink.innerHTML = docLinkHtml;\n",
              "          element.appendChild(docLink);\n",
              "        }\n",
              "      </script>\n",
              "    </div>\n",
              "  </div>\n",
              "  "
            ]
          },
          "metadata": {},
          "execution_count": 2
        }
      ]
    },
    {
      "cell_type": "markdown",
      "source": [
        "### Dictionary Generation"
      ],
      "metadata": {
        "id": "DSXYKL9VQ5Ee"
      }
    },
    {
      "cell_type": "code",
      "source": [
        "polarity= pd.read_csv(\"/content/drive/MyDrive/Dataset/word2vec/polarity_career_vs_family_v2.csv\",index_col=0, names=[\"score\"]).score\n",
        "\n",
        "polarity_norm= (polarity - polarity.mean())/polarity.std()\n",
        "high_polarity= polarity_norm[(polarity_norm>2) | (polarity_norm<-2)]"
      ],
      "metadata": {
        "id": "Q0ctePdlQ4cw"
      },
      "execution_count": 3,
      "outputs": []
    },
    {
      "cell_type": "code",
      "source": [
        "from gensim.models import KeyedVectors\n",
        "\n",
        "word_vectors= KeyedVectors.load(\"/content/drive/MyDrive/Dataset/word2vec/subtitles_word_emb_v6.word_vectors\")"
      ],
      "metadata": {
        "id": "a3018AoyZTCt"
      },
      "execution_count": 4,
      "outputs": []
    },
    {
      "cell_type": "code",
      "source": [
        "\n",
        "target_words=['queen', 'wife', 'woman', 'ladi', 'bride', 'femal',\n",
        "'goddess', 'feminin', 'she', 'sister', 'madonna',  'womanhood', 'mother','babe']"
      ],
      "metadata": {
        "id": "UQV7H1VrRxyP"
      },
      "execution_count": 5,
      "outputs": []
    },
    {
      "cell_type": "code",
      "source": [
        "associated_words= []\n",
        "for target_word in target_words:\n",
        "    n_similar_words= word_vectors.similar_by_word(target_word, topn=100)\n",
        "\n",
        "    for word, score in n_similar_words:\n",
        "        associated_words.append(word)"
      ],
      "metadata": {
        "id": "6q7dZTMwZePm"
      },
      "execution_count": 6,
      "outputs": []
    },
    {
      "cell_type": "code",
      "source": [
        "dictionary= set(associated_words) & set(high_polarity.index)"
      ],
      "metadata": {
        "id": "b0ZoaesTbL7T"
      },
      "execution_count": 7,
      "outputs": []
    },
    {
      "cell_type": "code",
      "source": [
        "dictionary_vector= np.zeros(200)\n",
        "\n",
        "for word in dictionary:\n",
        "    dictionary_vector= dictionary_vector + polarity[word]*word_vectors[word]"
      ],
      "metadata": {
        "id": "8nVK_4yIbLz5"
      },
      "execution_count": 8,
      "outputs": []
    },
    {
      "cell_type": "markdown",
      "source": [
        "### Estimating Subtitle Embeddings"
      ],
      "metadata": {
        "id": "FJV3ArS_fba5"
      }
    },
    {
      "cell_type": "code",
      "source": [
        "from fse.models import SIF\n",
        "\n",
        "model= SIF.load(\"/content/drive/MyDrive/Dataset/word2vec/subtitles_fse.model\")\n"
      ],
      "metadata": {
        "id": "SN0PuNEsfxVC"
      },
      "execution_count": 9,
      "outputs": []
    },
    {
      "cell_type": "code",
      "source": [
        "from fse import IndexedList\n",
        "import os\n",
        "import tqdm \n",
        "\n",
        "def read_file(filename):\n",
        "    with open(filename, 'r') as f:\n",
        "        lines = f.readlines()\n",
        "    sents=[line.split() for line in lines]\n",
        "    return sents\n",
        "\n",
        "def angular_distance(v1, v2):\n",
        "  v1_normalized = v1 / np.linalg.norm(v1)\n",
        "  v2_normalized = v2 / np.linalg.norm(v2)\n",
        "  return np.arccos(np.clip(np.dot(v1_normalized, v2_normalized), -1.0, 1.0))\n",
        "\n",
        "def estimate_document_vector(sents):\n",
        "    indexed_sents=IndexedList(sents)\n",
        "    sents_vector= model.infer(indexed_sents)\n",
        "\n",
        "    doc_vector= np.add.reduce(sents_vector) - model.svd_res[1][0]\n",
        "\n",
        "    return doc_vector\n",
        "\n",
        "folder_path='/content/drive/MyDrive/Dataset/processed_subtitles/'\n",
        "\n",
        "distance_dict={}\n",
        "\n",
        "for filename in tqdm.tqdm(os.listdir(folder_path)):\n",
        "    sents= read_file(folder_path+filename)\n",
        "\n",
        "    subtitle_vector = estimate_document_vector(sents)\n",
        "    dis=angular_distance(dictionary_vector, subtitle_vector)\n",
        "    distance_dict[filename[:9]]=dis\n",
        "\n",
        "    "
      ],
      "metadata": {
        "colab": {
          "base_uri": "https://localhost:8080/"
        },
        "id": "y9DRrqo2g351",
        "outputId": "dce02c5d-fbb2-478c-b03c-6968d2ecf549"
      },
      "execution_count": 11,
      "outputs": [
        {
          "output_type": "stream",
          "name": "stderr",
          "text": [
            "100%|██████████| 4168/4168 [01:14<00:00, 55.76it/s]\n"
          ]
        }
      ]
    },
    {
      "cell_type": "markdown",
      "source": [
        "### Data Analysis"
      ],
      "metadata": {
        "id": "elo_hnPgzNbo"
      }
    },
    {
      "cell_type": "code",
      "source": [
        "movies_data[\"distance\"]=pd.Series(distance_dict)"
      ],
      "metadata": {
        "id": "bLflu91oGbHP"
      },
      "execution_count": 12,
      "outputs": []
    },
    {
      "cell_type": "code",
      "source": [
        "data=movies_data[~ movies_data.distance.isna()].copy()\n",
        "data=data[data.Language.isin([\"hindi\",\"tamil\",\"malayalam\",\"telugu\",\"kannada\",\"punjabi\",\"bengali\"])].copy()\n",
        "data[\"normalized_distance\"]=(data.distance- data.distance.min())/(data.distance.max() - data.distance.min())\n",
        "#data=data[(data.Year>=2000) & (data.Year<=2019)]\n",
        "data[\"Year\"]=data.Year.astype(\"int64\")\n"
      ],
      "metadata": {
        "id": "keE1kjZdGfze"
      },
      "execution_count": 13,
      "outputs": []
    },
    {
      "cell_type": "code",
      "source": [
        "\n",
        "fig, ax= plt.subplots(figsize=(8,4))\n",
        "fig.patch.set_visible(False)\n",
        "\n",
        "ax=sns.barplot(data=data[data.Year>=2015], y=\"Language\", x=\"normalized_distance\",color=\"lightblue\",\n",
        "                            order=[\"tamil\", \"malayalam\",\"telugu\",\"hindi\",\"bengali\",\"kannada\",\"punjabi\"], ax=ax)\n",
        "\n",
        "plt.xlabel(\"Bias Measure, smaller is better\")\n",
        "\n",
        "#ax.tick_params(left=False, labelleft=False)\n",
        "# for bars_group in ax.containers:\n",
        "#     ax.bar_label(bars_group, padding=3, fontsize=15)\n",
        "\n",
        "sns.despine()\n",
        "ax.set(ylabel=None, title=\"Career vs Family (2015-2019)\\n\")\n",
        "plt.tight_layout()"
      ],
      "metadata": {
        "colab": {
          "base_uri": "https://localhost:8080/",
          "height": 297
        },
        "id": "-6t4T2lhGv1D",
        "outputId": "b3c4efaf-ba02-4d8e-c86b-400fe3665e46"
      },
      "execution_count": 14,
      "outputs": [
        {
          "output_type": "display_data",
          "data": {
            "text/plain": [
              "<Figure size 576x288 with 1 Axes>"
            ],
            "image/png": "[encoded data removed]"
          },
          "metadata": {
            "needs_background": "light"
          }
        }
      ]
    },
    {
      "cell_type": "code",
      "source": [
        "fig, ax= plt.subplots(figsize=(14,6))\n",
        "\n",
        "sns.pointplot(data=data[data.Year>=1990], y=\"normalized_distance\",x=\"Year\", ci=95)\n",
        "\n",
        "sns.despine()\n",
        "ax.set(title=\"Career vs Family\",xlabel=None, ylabel=\"Avg. Distnace\")\n",
        "plt.tight_layout()"
      ],
      "metadata": {
        "colab": {
          "base_uri": "https://localhost:8080/",
          "height": 441
        },
        "id": "U4xCr7vQKN5K",
        "outputId": "50be7e44-f8da-4428-e101-b4879a6cb131"
      },
      "execution_count": 17,
      "outputs": [
        {
          "output_type": "display_data",
          "data": {
            "text/plain": [
              "<Figure size 1008x432 with 1 Axes>"
            ],
            "image/png": "[encoded data removed]"
          },
          "metadata": {
            "needs_background": "light"
          }
        }
      ]
    },
    {
      "cell_type": "code",
      "source": [
        "data[data.Year>=2015][\"normalized_distance\"][\"tt5200962\"] #tt5200962 -> kathalum kadathu pogum "
      ],
      "metadata": {
        "colab": {
          "base_uri": "https://localhost:8080/"
        },
        "id": "WXjU-j56jbJa",
        "outputId": "7b93b1be-fb55-4f0b-d15d-19da0ab3e861"
      },
      "execution_count": null,
      "outputs": [
        {
          "output_type": "execute_result",
          "data": {
            "text/plain": [
              "0.17278697160225598"
            ]
          },
          "metadata": {},
          "execution_count": 15
        }
      ]
    }
  ]
}